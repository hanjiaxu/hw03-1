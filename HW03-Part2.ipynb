{
 "cells": [
  {
   "cell_type": "code",
   "execution_count": 2,
   "metadata": {},
   "outputs": [],
   "source": [
    "import pandas as pd\n",
    "#import and merge the data\n",
    "df_2016_implicate = pd.read_sas('nsch_2016_implicate.sas7bdat')\n",
    "df_2016_topical = pd.read_sas('nsch_2016_topical.sas7bdat')\n",
    "nsch_2016 = pd.merge(df_2016_topical, df_2016_implicate, on='HHID')\n",
    "nsch_2017 = pd.read_sas('nsch_2017_topical.sas7bdat')\n",
    "\n",
    "col_2016 = set(nsch_2016.columns)\n",
    "col_2017 = set(nsch_2017.columns)\n",
    "common_col = list(col_2016.intersection(col_2017))\n",
    "data = pd.concat([nsch_2016[common_col], nsch_2017[common_col]])"
   ]
  },
  {
   "cell_type": "code",
   "execution_count": 3,
   "metadata": {},
   "outputs": [],
   "source": [
    "interested_var = ['SC_AGE_YEARS', 'SC_RACE_R', 'K2Q01', 'K6Q71_R', 'K6Q72_R', 'K7Q84_R',\\\n",
    "                  'K7Q85_R', 'K7Q82_R', 'K7Q83_R', 'BULLIED', 'K7Q70_R',\\\n",
    "                  'MEMORYCOND', 'ERRANDALONE', 'HEADACHE', 'K2Q33A', 'K2Q32A', 'K2Q34A',\\\n",
    "                  'SUBABUSE', 'K2Q31A', 'HCABILITY', 'K2Q05', 'BIRTHWT_VL', 'MOMAGE',\\\n",
    "                  'WGTCONC', 'K4Q01', 'TREATNEED', 'CONFIDENT', 'NEWACTIVITY', 'HURTSAD',\\\n",
    "                  'CALMDOWN', 'TEMPER', 'K7Q04R_R', 'REPEATED', 'K7Q30', 'K7Q31', 'K7Q32',\\\n",
    "                  'K7Q37', 'PHYSACTIV', 'MAKEFRIEND', 'K11Q43R', 'BEDTIME', 'HOURSLEEP05',\\\n",
    "                  'HOURSLEEP', 'K7Q60_R', 'K7Q91_R', 'K6Q60_R', 'K6Q61_R', 'K8Q21',\\\n",
    "                  'K8Q30', 'K8Q31', 'K8Q32', 'K8Q34', 'K8Q35', 'K6Q20', 'K8Q11', 'K9Q40',\\\n",
    "                  'K9Q41', 'TALKABOUT', 'WKTOSOLVE', 'STRENGTHS', 'HOPEFUL', 'ACE1',\\\n",
    "                  'FOODSIT', 'K11Q60', 'K11Q61', 'K11Q62', 'S9Q34', 'K10Q11', 'K10Q12',\\\n",
    "                  'K10Q13', 'K10Q14', 'K10Q20', 'K10Q22', 'K10Q23', 'K10Q30', 'K10Q31',\\\n",
    "                  'K10Q40_R', 'GOFORHELP', 'K10Q41_R', 'K9Q96', 'ACE3', 'ACE4', 'ACE5',\\\n",
    "                  'ACE6', 'ACE7', 'ACE8', 'ACE9', 'ACE10', 'A1_PHYSHEALTH', 'A1_MENTHEALTH']"
   ]
  },
  {
   "cell_type": "code",
   "execution_count": 4,
   "metadata": {},
   "outputs": [],
   "source": [
    "data = data[interested_var]"
   ]
  },
  {
   "cell_type": "code",
   "execution_count": 5,
   "metadata": {},
   "outputs": [],
   "source": [
    "data = data.dropna(axis='columns', thresh=data.shape[0]*0.5).dropna()"
   ]
  },
  {
   "cell_type": "code",
   "execution_count": 6,
   "metadata": {},
   "outputs": [
    {
     "data": {
      "text/plain": [
       "Index(['SC_AGE_YEARS', 'SC_RACE_R', 'K2Q01', 'K6Q71_R', 'K7Q84_R', 'K7Q85_R',\n",
       "       'K7Q82_R', 'K7Q83_R', 'BULLIED', 'K7Q70_R', 'MEMORYCOND', 'HEADACHE',\n",
       "       'K2Q33A', 'K2Q32A', 'K2Q34A', 'SUBABUSE', 'K2Q31A', 'HCABILITY',\n",
       "       'K2Q05', 'BIRTHWT_VL', 'MOMAGE', 'WGTCONC', 'K4Q01', 'K7Q04R_R',\n",
       "       'REPEATED', 'K7Q30', 'K7Q31', 'K7Q32', 'K7Q37', 'PHYSACTIV',\n",
       "       'MAKEFRIEND', 'K11Q43R', 'BEDTIME', 'HOURSLEEP', 'K7Q60_R', 'K7Q91_R',\n",
       "       'K8Q21', 'K8Q30', 'K8Q31', 'K8Q32', 'K8Q34', 'K8Q35', 'K8Q11', 'K9Q40',\n",
       "       'TALKABOUT', 'WKTOSOLVE', 'STRENGTHS', 'HOPEFUL', 'ACE1', 'FOODSIT',\n",
       "       'K11Q60', 'K11Q61', 'K11Q62', 'S9Q34', 'K10Q11', 'K10Q12', 'K10Q13',\n",
       "       'K10Q14', 'K10Q20', 'K10Q22', 'K10Q23', 'K10Q30', 'K10Q31', 'K10Q40_R',\n",
       "       'GOFORHELP', 'K10Q41_R', 'K9Q96', 'ACE3', 'ACE4', 'ACE5', 'ACE6',\n",
       "       'ACE7', 'ACE8', 'ACE9', 'ACE10', 'A1_PHYSHEALTH', 'A1_MENTHEALTH'],\n",
       "      dtype='object')"
      ]
     },
     "execution_count": 6,
     "metadata": {},
     "output_type": "execute_result"
    }
   ],
   "source": [
    "data.columns"
   ]
  },
  {
   "cell_type": "code",
   "execution_count": 7,
   "metadata": {},
   "outputs": [],
   "source": [
    "data['ACE'] = (2-data['ACE3']) +\\\n",
    "           (2-data['ACE4']) +\\\n",
    "           (2-data['ACE5']) +\\\n",
    "           (2-data['ACE6']) +\\\n",
    "           (2-data['ACE7']) +\\\n",
    "           (2-data['ACE8']) +\\\n",
    "           (2-data['ACE9']) +\\\n",
    "           (2-data['ACE10'])"
   ]
  },
  {
   "cell_type": "code",
   "execution_count": 8,
   "metadata": {},
   "outputs": [
    {
     "data": {
      "text/plain": [
       "(34821, 78)"
      ]
     },
     "execution_count": 8,
     "metadata": {},
     "output_type": "execute_result"
    }
   ],
   "source": [
    "data.shape"
   ]
  },
  {
   "cell_type": "code",
   "execution_count": 9,
   "metadata": {},
   "outputs": [],
   "source": [
    "#train test split\n",
    "import numpy as np\n",
    "import matplotlib.pyplot as plt\n",
    "from sklearn.linear_model import LogisticRegression, RidgeClassifier, SGDClassifier\n",
    "from sklearn.naive_bayes import GaussianNB\n",
    "from sklearn.neighbors import KNeighborsClassifier\n",
    "from sklearn.model_selection import KFold, cross_val_score\n",
    "from sklearn.tree import DecisionTreeClassifier\n",
    "from sklearn.ensemble import BaggingClassifier, RandomForestClassifier\n",
    "import xgboost as xgb\n",
    "from pyearth import Earth\n",
    "from sklearn.model_selection import GridSearchCV\n",
    "from sklearn.model_selection import train_test_split\n",
    "import warnings\n",
    "from sklearn.model_selection import RandomizedSearchCV\n",
    "warnings.filterwarnings('ignore')\n",
    "\n",
    "\n",
    "X = data.drop(columns=['K2Q32A'])\n",
    "y = data['K2Q32A']\n",
    "\n",
    "X_train, X_test, y_train, y_test = \\\n",
    "    train_test_split(X, y, test_size=0.3, random_state=42) "
   ]
  },
  {
   "cell_type": "code",
   "execution_count": 10,
   "metadata": {},
   "outputs": [],
   "source": [
    "from imblearn.under_sampling import RandomUnderSampler\n",
    "from imblearn.pipeline import Pipeline\n",
    "from imblearn.pipeline import make_pipeline\n",
    "from imblearn.over_sampling import SMOTE, ADASYN, RandomOverSampler\n",
    "sampler1 = RandomUnderSampler(random_state=42)\n",
    "sampler2 = SMOTE(random_state=42)\n",
    "sampler3 = ADASYN(random_state=42)\n",
    "sampler4 = RandomOverSampler(random_state=42)\n",
    "\n",
    "sampler = [sampler1, sampler2, sampler3, sampler4]"
   ]
  },
  {
   "cell_type": "code",
   "execution_count": 188,
   "metadata": {},
   "outputs": [
    {
     "name": "stdout",
     "output_type": "stream",
     "text": [
      "Decision tree:\n",
      "{'dt__splitter': 'best', 'dt__max_depth': 2, 'dt__criterion': 'gini'}\n",
      "Decision tree:\n",
      "{'dt__splitter': 'best', 'dt__max_depth': 7, 'dt__criterion': 'entropy'}\n",
      "Decision tree:\n",
      "{'dt__splitter': 'best', 'dt__max_depth': 7, 'dt__criterion': 'gini'}\n",
      "Decision tree:\n",
      "{'dt__splitter': 'random', 'dt__max_depth': None, 'dt__criterion': 'gini'}\n"
     ]
    }
   ],
   "source": [
    "#Decision tree\n",
    "\n",
    "for s in sampler:\n",
    "    dt_clf = Pipeline([('sampler', s), ('dt', DecisionTreeClassifier())])\n",
    "    dt_params = {'dt__criterion': ['gini', 'entropy'],\\\n",
    "                 'dt__splitter': ['best', 'random'],\\\n",
    "                 'dt__max_depth': [None, 2, 3, 4, 5, 6, 7, 50, 100, 1000],\\\n",
    "                }\n",
    "\n",
    "    dt_tune = RandomizedSearchCV(dt_clf, dt_params, cv=10, scoring='accuracy').fit(X_train, y_train)\n",
    "\n",
    "    print(\"Decision tree:\")\n",
    "    print(dt_tune.best_params_)"
   ]
  },
  {
   "cell_type": "code",
   "execution_count": 11,
   "metadata": {},
   "outputs": [],
   "source": [
    "dt1 = make_pipeline(sampler1, DecisionTreeClassifier(criterion='gini', max_depth=2, splitter='best'))\n",
    "dt2 = make_pipeline(sampler2, DecisionTreeClassifier(criterion='entropy', max_depth=7, splitter='best'))\n",
    "dt3 = make_pipeline(sampler3, DecisionTreeClassifier(criterion='gini', max_depth=7, splitter='best'))\n",
    "dt4 = make_pipeline(sampler4, DecisionTreeClassifier(criterion='gini', max_depth=None, splitter='random'))"
   ]
  },
  {
   "cell_type": "code",
   "execution_count": 189,
   "metadata": {},
   "outputs": [
    {
     "name": "stdout",
     "output_type": "stream",
     "text": [
      "Bagging:\n",
      "{'bg__n_estimators': 100, 'bg__max_samples': 5, 'bg__max_features': 0.2, 'bg__bootstrap_features': False, 'bg__bootstrap': False}\n",
      "Bagging:\n",
      "{'bg__n_estimators': 100, 'bg__max_samples': 5, 'bg__max_features': 0.8, 'bg__bootstrap_features': True, 'bg__bootstrap': True}\n",
      "Bagging:\n",
      "{'bg__n_estimators': 100, 'bg__max_samples': 6, 'bg__max_features': 1.0, 'bg__bootstrap_features': False, 'bg__bootstrap': False}\n",
      "Bagging:\n",
      "{'bg__n_estimators': 200, 'bg__max_samples': 4, 'bg__max_features': 0.6, 'bg__bootstrap_features': False, 'bg__bootstrap': True}\n"
     ]
    }
   ],
   "source": [
    "#Bagging\n",
    "for s in sampler:\n",
    "    bg_clf = Pipeline([('sampler', s), ('bg', BaggingClassifier())])\n",
    "    bg_params = {'bg__n_estimators': [10, 15, 20, 25, 30, 35, 40, 50, 70, 100, 200],\\\n",
    "                 'bg__max_samples': [1, 2, 3, 4, 5, 6, 7, 8, 9],\\\n",
    "                 'bg__max_features': [1.0, 0.8, 0.6, 0.5, 0.4, 0.3, 0.2, 0.1],\\\n",
    "                 'bg__bootstrap':[True, False],\\\n",
    "                 'bg__bootstrap_features': [True, False]}\n",
    "\n",
    "    bg_tune = RandomizedSearchCV(bg_clf, bg_params, cv=10, scoring='accuracy').fit(X_train, y_train)\n",
    "\n",
    "    print(\"Bagging:\")\n",
    "    print(bg_tune.best_params_)"
   ]
  },
  {
   "cell_type": "code",
   "execution_count": 12,
   "metadata": {},
   "outputs": [],
   "source": [
    "bg1=make_pipeline(sampler1, BaggingClassifier(n_estimators=100, max_samples=5,\\\n",
    "                                             max_features=0.2, bootstrap_features=False, bootstrap=False))\n",
    "bg2=make_pipeline(sampler2, BaggingClassifier(n_estimators=100, max_samples=5,\\\n",
    "                                             max_features=0.8, bootstrap_features=True, bootstrap=True))\n",
    "bg3=make_pipeline(sampler3, BaggingClassifier(n_estimators=100, max_samples=6,\\\n",
    "                                             max_features=1.0, bootstrap_features=False, bootstrap=False))\n",
    "bg4=make_pipeline(sampler4, BaggingClassifier(n_estimators=200, max_samples=4,\\\n",
    "                                             max_features=0.6, bootstrap_features=False, bootstrap=True))"
   ]
  },
  {
   "cell_type": "code",
   "execution_count": 190,
   "metadata": {},
   "outputs": [
    {
     "name": "stdout",
     "output_type": "stream",
     "text": [
      "random forest:\n",
      "{'rf__n_estimators': 1600, 'rf__min_samples_split': 2, 'rf__min_samples_leaf': 1, 'rf__max_features': 'auto', 'rf__max_depth': 10, 'rf__bootstrap': True}\n",
      "random forest:\n",
      "{'rf__n_estimators': 600, 'rf__min_samples_split': 5, 'rf__min_samples_leaf': 4, 'rf__max_features': 'sqrt', 'rf__max_depth': 20, 'rf__bootstrap': False}\n",
      "random forest:\n",
      "{'rf__n_estimators': 1200, 'rf__min_samples_split': 5, 'rf__min_samples_leaf': 4, 'rf__max_features': 'sqrt', 'rf__max_depth': 30, 'rf__bootstrap': False}\n",
      "random forest:\n",
      "{'rf__n_estimators': 800, 'rf__min_samples_split': 10, 'rf__min_samples_leaf': 1, 'rf__max_features': 'auto', 'rf__max_depth': 50, 'rf__bootstrap': True}\n"
     ]
    }
   ],
   "source": [
    "#random forest\n",
    "for s in sampler:\n",
    "    rf_clf = Pipeline([('sampler', s), ('rf', RandomForestClassifier())])\n",
    "    rf_params = {'rf__bootstrap': [True, False],\n",
    "                 'rf__max_depth': [10, 20, 30, 40, 50, 60, 70, 80, 90, 100, None],\n",
    "                 'rf__max_features': ['auto', 'sqrt'],\n",
    "                 'rf__min_samples_leaf': [1, 2, 4],\n",
    "                 'rf__min_samples_split': [2, 5, 10],\n",
    "                 'rf__n_estimators': [  200, 400, 600, 800, 1000, 1200, 1400, 1600, 1800, 2000]}\n",
    "\n",
    "    rf_tune = RandomizedSearchCV(rf_clf, rf_params, cv=10, scoring='accuracy').fit(X_train, y_train)\n",
    "    \n",
    "    print(\"random forest:\")\n",
    "    print(rf_tune.best_params_)"
   ]
  },
  {
   "cell_type": "code",
   "execution_count": 13,
   "metadata": {},
   "outputs": [],
   "source": [
    "rf1 = make_pipeline(sampler1, RandomForestClassifier(n_estimators=1600, min_samples_split=2,\\\n",
    "                                                  min_samples_leaf=1, max_features='auto',\\\n",
    "                                                  max_depth=10, bootstrap=True))\n",
    "rf2 = make_pipeline(sampler2, RandomForestClassifier(n_estimators=600, min_samples_split=5,\\\n",
    "                                                  min_samples_leaf=4, max_features='sqrt',\\\n",
    "                                                  max_depth=20, bootstrap=False))\n",
    "rf3 = make_pipeline(sampler3, RandomForestClassifier(n_estimators=1200, min_samples_split=5,\\\n",
    "                                                  min_samples_leaf=4, max_features='sqrt',\\\n",
    "                                                  max_depth=30, bootstrap=False))\n",
    "rf4 = make_pipeline(sampler4, RandomForestClassifier(n_estimators=800, min_samples_split=10,\\\n",
    "                                                  min_samples_leaf=1, max_features='auto',\\\n",
    "                                                  max_depth=50, bootstrap=True))"
   ]
  },
  {
   "cell_type": "code",
   "execution_count": 13,
   "metadata": {},
   "outputs": [],
   "source": [
    "models = {'Decision Tree_1': dt1,\\\n",
    "          'Decision Tree_2': dt2,\\\n",
    "          'Decision Tree_3': dt3,\\\n",
    "          'Decision Tree_4': dt4,\\\n",
    "          'Bagging1': bg1,\\\n",
    "          'Bagging2': bg2,\\\n",
    "          'Bagging3': bg3,\\\n",
    "          'Bagging4': bg4,\\\n",
    "          'Random Forest1': rf1,\\\n",
    "          'Random Forest2': rf2,\\\n",
    "          'Random Forest3': rf3,\\\n",
    "          'Random Forest4': rf4}\n",
    "\n",
    "auc_ls = [np.mean(cross_val_score(models[key], X_train, y_train, cv=5, scoring='roc_auc')) for key in models.keys()]\n",
    "acc_ls = [np.mean(cross_val_score(models[key], X_train, y_train, cv=5, scoring='accuracy')) for key in models.keys()]"
   ]
  },
  {
   "cell_type": "code",
   "execution_count": 14,
   "metadata": {},
   "outputs": [],
   "source": [
    "import seaborn as sns\n",
    "sns.set(color_codes=True)\n",
    "df = pd.DataFrame({'Models': [k for k in models],\\\n",
    "                   'Accuracy': acc_ls,\\\n",
    "                   'ROC/AUC': auc_ls})"
   ]
  },
  {
   "cell_type": "code",
   "execution_count": 15,
   "metadata": {},
   "outputs": [
    {
     "data": {
      "text/html": [
       "<div>\n",
       "<style scoped>\n",
       "    .dataframe tbody tr th:only-of-type {\n",
       "        vertical-align: middle;\n",
       "    }\n",
       "\n",
       "    .dataframe tbody tr th {\n",
       "        vertical-align: top;\n",
       "    }\n",
       "\n",
       "    .dataframe thead th {\n",
       "        text-align: right;\n",
       "    }\n",
       "</style>\n",
       "<table border=\"1\" class=\"dataframe\">\n",
       "  <thead>\n",
       "    <tr style=\"text-align: right;\">\n",
       "      <th></th>\n",
       "      <th>Models</th>\n",
       "      <th>Accuracy</th>\n",
       "      <th>ROC/AUC</th>\n",
       "    </tr>\n",
       "  </thead>\n",
       "  <tbody>\n",
       "    <tr>\n",
       "      <th>0</th>\n",
       "      <td>Decision Tree_1</td>\n",
       "      <td>0.876304</td>\n",
       "      <td>0.879954</td>\n",
       "    </tr>\n",
       "    <tr>\n",
       "      <th>1</th>\n",
       "      <td>Decision Tree_2</td>\n",
       "      <td>0.925536</td>\n",
       "      <td>0.921897</td>\n",
       "    </tr>\n",
       "    <tr>\n",
       "      <th>2</th>\n",
       "      <td>Decision Tree_3</td>\n",
       "      <td>0.929556</td>\n",
       "      <td>0.911946</td>\n",
       "    </tr>\n",
       "    <tr>\n",
       "      <th>3</th>\n",
       "      <td>Decision Tree_4</td>\n",
       "      <td>0.925412</td>\n",
       "      <td>0.662930</td>\n",
       "    </tr>\n",
       "    <tr>\n",
       "      <th>4</th>\n",
       "      <td>Bagging1</td>\n",
       "      <td>0.883935</td>\n",
       "      <td>0.892783</td>\n",
       "    </tr>\n",
       "    <tr>\n",
       "      <th>5</th>\n",
       "      <td>Bagging2</td>\n",
       "      <td>0.880242</td>\n",
       "      <td>0.912095</td>\n",
       "    </tr>\n",
       "    <tr>\n",
       "      <th>6</th>\n",
       "      <td>Bagging3</td>\n",
       "      <td>0.889471</td>\n",
       "      <td>0.917639</td>\n",
       "    </tr>\n",
       "    <tr>\n",
       "      <th>7</th>\n",
       "      <td>Bagging4</td>\n",
       "      <td>0.900919</td>\n",
       "      <td>0.900603</td>\n",
       "    </tr>\n",
       "    <tr>\n",
       "      <th>8</th>\n",
       "      <td>Random Forest1</td>\n",
       "      <td>0.865758</td>\n",
       "      <td>0.942898</td>\n",
       "    </tr>\n",
       "    <tr>\n",
       "      <th>9</th>\n",
       "      <td>Random Forest2</td>\n",
       "      <td>0.949331</td>\n",
       "      <td>0.943266</td>\n",
       "    </tr>\n",
       "    <tr>\n",
       "      <th>10</th>\n",
       "      <td>Random Forest3</td>\n",
       "      <td>0.949044</td>\n",
       "      <td>0.943423</td>\n",
       "    </tr>\n",
       "    <tr>\n",
       "      <th>11</th>\n",
       "      <td>Random Forest4</td>\n",
       "      <td>0.950029</td>\n",
       "      <td>0.943529</td>\n",
       "    </tr>\n",
       "  </tbody>\n",
       "</table>\n",
       "</div>"
      ],
      "text/plain": [
       "             Models  Accuracy   ROC/AUC\n",
       "0   Decision Tree_1  0.876304  0.879954\n",
       "1   Decision Tree_2  0.925536  0.921897\n",
       "2   Decision Tree_3  0.929556  0.911946\n",
       "3   Decision Tree_4  0.925412  0.662930\n",
       "4          Bagging1  0.883935  0.892783\n",
       "5          Bagging2  0.880242  0.912095\n",
       "6          Bagging3  0.889471  0.917639\n",
       "7          Bagging4  0.900919  0.900603\n",
       "8    Random Forest1  0.865758  0.942898\n",
       "9    Random Forest2  0.949331  0.943266\n",
       "10   Random Forest3  0.949044  0.943423\n",
       "11   Random Forest4  0.950029  0.943529"
      ]
     },
     "execution_count": 15,
     "metadata": {},
     "output_type": "execute_result"
    }
   ],
   "source": [
    "df"
   ]
  },
  {
   "cell_type": "code",
   "execution_count": null,
   "metadata": {},
   "outputs": [],
   "source": [
    "from skater.model import InMemoryModel\n",
    "from skater.core.explanations import Interpretation\n",
    "\n",
    "rf4.fit(X, y)\n",
    "model = InMemoryModel(rf4.predict_proba, examples=X)\n",
    "interpreter = Interpretation(X)\n",
    "interpreter.load_data(X)\n",
    "importance = interpreter.feature_importance.feature_importance(model)\n",
    "\n",
    "importance = importance.to_frame(name='Importance Score')\n",
    "importance = importance.sort_values(by='Importance Score', ascending=False)\n",
    "importance.reset_index(level=0, inplace=True)\n",
    "importance = importance.rename(columns={'index': 'feature'})"
   ]
  },
  {
   "cell_type": "code",
   "execution_count": 18,
   "metadata": {},
   "outputs": [],
   "source": [
    "figure1_df = importance[0:10]"
   ]
  },
  {
   "cell_type": "code",
   "execution_count": 19,
   "metadata": {},
   "outputs": [
    {
     "data": {
      "text/html": [
       "<div>\n",
       "<style scoped>\n",
       "    .dataframe tbody tr th:only-of-type {\n",
       "        vertical-align: middle;\n",
       "    }\n",
       "\n",
       "    .dataframe tbody tr th {\n",
       "        vertical-align: top;\n",
       "    }\n",
       "\n",
       "    .dataframe thead th {\n",
       "        text-align: right;\n",
       "    }\n",
       "</style>\n",
       "<table border=\"1\" class=\"dataframe\">\n",
       "  <thead>\n",
       "    <tr style=\"text-align: right;\">\n",
       "      <th></th>\n",
       "      <th>feature</th>\n",
       "      <th>Importance Score</th>\n",
       "    </tr>\n",
       "  </thead>\n",
       "  <tbody>\n",
       "    <tr>\n",
       "      <th>0</th>\n",
       "      <td>K2Q33A</td>\n",
       "      <td>0.109480</td>\n",
       "    </tr>\n",
       "    <tr>\n",
       "      <th>1</th>\n",
       "      <td>SC_AGE_YEARS</td>\n",
       "      <td>0.065499</td>\n",
       "    </tr>\n",
       "    <tr>\n",
       "      <th>2</th>\n",
       "      <td>HCABILITY</td>\n",
       "      <td>0.059487</td>\n",
       "    </tr>\n",
       "    <tr>\n",
       "      <th>3</th>\n",
       "      <td>MAKEFRIEND</td>\n",
       "      <td>0.036408</td>\n",
       "    </tr>\n",
       "    <tr>\n",
       "      <th>4</th>\n",
       "      <td>K2Q01</td>\n",
       "      <td>0.031489</td>\n",
       "    </tr>\n",
       "    <tr>\n",
       "      <th>5</th>\n",
       "      <td>ACE</td>\n",
       "      <td>0.031167</td>\n",
       "    </tr>\n",
       "    <tr>\n",
       "      <th>6</th>\n",
       "      <td>K8Q31</td>\n",
       "      <td>0.030625</td>\n",
       "    </tr>\n",
       "    <tr>\n",
       "      <th>7</th>\n",
       "      <td>K7Q91_R</td>\n",
       "      <td>0.028898</td>\n",
       "    </tr>\n",
       "    <tr>\n",
       "      <th>8</th>\n",
       "      <td>K7Q83_R</td>\n",
       "      <td>0.028818</td>\n",
       "    </tr>\n",
       "    <tr>\n",
       "      <th>9</th>\n",
       "      <td>BULLIED</td>\n",
       "      <td>0.027364</td>\n",
       "    </tr>\n",
       "  </tbody>\n",
       "</table>\n",
       "</div>"
      ],
      "text/plain": [
       "        feature  Importance Score\n",
       "0        K2Q33A          0.109480\n",
       "1  SC_AGE_YEARS          0.065499\n",
       "2     HCABILITY          0.059487\n",
       "3    MAKEFRIEND          0.036408\n",
       "4         K2Q01          0.031489\n",
       "5           ACE          0.031167\n",
       "6         K8Q31          0.030625\n",
       "7       K7Q91_R          0.028898\n",
       "8       K7Q83_R          0.028818\n",
       "9       BULLIED          0.027364"
      ]
     },
     "execution_count": 19,
     "metadata": {},
     "output_type": "execute_result"
    }
   ],
   "source": [
    "figure1_df"
   ]
  },
  {
   "cell_type": "code",
   "execution_count": 20,
   "metadata": {},
   "outputs": [],
   "source": [
    "figure1_df['Features'] = ['Anxiety',\\\n",
    "                          'Age',\\\n",
    "                          'Health Affected Ability',\\\n",
    "                          'Difficulty Making Friends',\\\n",
    "                          'General Health',\\\n",
    "                          'Adverse Childhood Experience',\\\n",
    "                          'Child Hard to Care for',\\\n",
    "                          'Time Spent with Computers',\\\n",
    "                          'Does All Requred Homework',\\\n",
    "                          'Bullied']"
   ]
  },
  {
   "cell_type": "code",
   "execution_count": 21,
   "metadata": {},
   "outputs": [
    {
     "data": {
      "text/html": [
       "<div>\n",
       "<style scoped>\n",
       "    .dataframe tbody tr th:only-of-type {\n",
       "        vertical-align: middle;\n",
       "    }\n",
       "\n",
       "    .dataframe tbody tr th {\n",
       "        vertical-align: top;\n",
       "    }\n",
       "\n",
       "    .dataframe thead th {\n",
       "        text-align: right;\n",
       "    }\n",
       "</style>\n",
       "<table border=\"1\" class=\"dataframe\">\n",
       "  <thead>\n",
       "    <tr style=\"text-align: right;\">\n",
       "      <th></th>\n",
       "      <th>feature</th>\n",
       "      <th>Importance Score</th>\n",
       "      <th>Features</th>\n",
       "    </tr>\n",
       "  </thead>\n",
       "  <tbody>\n",
       "    <tr>\n",
       "      <th>0</th>\n",
       "      <td>K2Q33A</td>\n",
       "      <td>0.109480</td>\n",
       "      <td>Anxiety</td>\n",
       "    </tr>\n",
       "    <tr>\n",
       "      <th>1</th>\n",
       "      <td>SC_AGE_YEARS</td>\n",
       "      <td>0.065499</td>\n",
       "      <td>Age</td>\n",
       "    </tr>\n",
       "    <tr>\n",
       "      <th>2</th>\n",
       "      <td>HCABILITY</td>\n",
       "      <td>0.059487</td>\n",
       "      <td>Health Affected Ability</td>\n",
       "    </tr>\n",
       "    <tr>\n",
       "      <th>3</th>\n",
       "      <td>MAKEFRIEND</td>\n",
       "      <td>0.036408</td>\n",
       "      <td>Difficulty Making Friends</td>\n",
       "    </tr>\n",
       "    <tr>\n",
       "      <th>4</th>\n",
       "      <td>K2Q01</td>\n",
       "      <td>0.031489</td>\n",
       "      <td>General Health</td>\n",
       "    </tr>\n",
       "    <tr>\n",
       "      <th>5</th>\n",
       "      <td>ACE</td>\n",
       "      <td>0.031167</td>\n",
       "      <td>Adverse Childhood Experience</td>\n",
       "    </tr>\n",
       "    <tr>\n",
       "      <th>6</th>\n",
       "      <td>K8Q31</td>\n",
       "      <td>0.030625</td>\n",
       "      <td>Child Hard to Care for</td>\n",
       "    </tr>\n",
       "    <tr>\n",
       "      <th>7</th>\n",
       "      <td>K7Q91_R</td>\n",
       "      <td>0.028898</td>\n",
       "      <td>Time Spent with Computers</td>\n",
       "    </tr>\n",
       "    <tr>\n",
       "      <th>8</th>\n",
       "      <td>K7Q83_R</td>\n",
       "      <td>0.028818</td>\n",
       "      <td>Does All Requred Homework</td>\n",
       "    </tr>\n",
       "    <tr>\n",
       "      <th>9</th>\n",
       "      <td>BULLIED</td>\n",
       "      <td>0.027364</td>\n",
       "      <td>Bullied</td>\n",
       "    </tr>\n",
       "  </tbody>\n",
       "</table>\n",
       "</div>"
      ],
      "text/plain": [
       "        feature  Importance Score                      Features\n",
       "0        K2Q33A          0.109480                       Anxiety\n",
       "1  SC_AGE_YEARS          0.065499                           Age\n",
       "2     HCABILITY          0.059487       Health Affected Ability\n",
       "3    MAKEFRIEND          0.036408     Difficulty Making Friends\n",
       "4         K2Q01          0.031489                General Health\n",
       "5           ACE          0.031167  Adverse Childhood Experience\n",
       "6         K8Q31          0.030625        Child Hard to Care for\n",
       "7       K7Q91_R          0.028898     Time Spent with Computers\n",
       "8       K7Q83_R          0.028818     Does All Requred Homework\n",
       "9       BULLIED          0.027364                       Bullied"
      ]
     },
     "execution_count": 21,
     "metadata": {},
     "output_type": "execute_result"
    }
   ],
   "source": [
    "figure1_df"
   ]
  },
  {
   "cell_type": "code",
   "execution_count": 22,
   "metadata": {},
   "outputs": [],
   "source": [
    "XX = X[figure1_df['feature']]\n",
    "X_res, y_res = sampler4.fit_resample(XX, y)"
   ]
  },
  {
   "cell_type": "code",
   "execution_count": 23,
   "metadata": {},
   "outputs": [
    {
     "data": {
      "text/plain": [
       "array([2., 2., 2., ..., 1., 1., 1.])"
      ]
     },
     "execution_count": 23,
     "metadata": {},
     "output_type": "execute_result"
    }
   ],
   "source": [
    "y_res"
   ]
  },
  {
   "cell_type": "code",
   "execution_count": 24,
   "metadata": {},
   "outputs": [],
   "source": [
    "y_res = 2 - y_res"
   ]
  },
  {
   "cell_type": "code",
   "execution_count": 25,
   "metadata": {},
   "outputs": [
    {
     "data": {
      "text/plain": [
       "array([0., 0., 0., ..., 1., 1., 1.])"
      ]
     },
     "execution_count": 25,
     "metadata": {},
     "output_type": "execute_result"
    }
   ],
   "source": [
    "y_res"
   ]
  },
  {
   "cell_type": "code",
   "execution_count": 26,
   "metadata": {},
   "outputs": [
    {
     "data": {
      "text/plain": [
       "array([2., 2., 1., ..., 1., 1., 1.])"
      ]
     },
     "execution_count": 26,
     "metadata": {},
     "output_type": "execute_result"
    }
   ],
   "source": [
    "X_res[:,0]"
   ]
  },
  {
   "cell_type": "code",
   "execution_count": 27,
   "metadata": {},
   "outputs": [],
   "source": [
    "X_res[:,0] = 2-X_res[:,0]"
   ]
  },
  {
   "cell_type": "code",
   "execution_count": 28,
   "metadata": {},
   "outputs": [
    {
     "name": "stdout",
     "output_type": "stream",
     "text": [
      "Optimization terminated successfully.\n",
      "         Current function value: 0.341379\n",
      "         Iterations 7\n"
     ]
    }
   ],
   "source": [
    "import statsmodels.formula.api as sm\n",
    "model = sm.Logit(y_res, X_res)\n",
    "result = model.fit()"
   ]
  },
  {
   "cell_type": "code",
   "execution_count": 29,
   "metadata": {},
   "outputs": [
    {
     "data": {
      "text/html": [
       "<table class=\"simpletable\">\n",
       "<caption>Logit Regression Results</caption>\n",
       "<tr>\n",
       "  <th>Dep. Variable:</th>         <td>y</td>        <th>  No. Observations:  </th>  <td> 65346</td> \n",
       "</tr>\n",
       "<tr>\n",
       "  <th>Model:</th>               <td>Logit</td>      <th>  Df Residuals:      </th>  <td> 65336</td> \n",
       "</tr>\n",
       "<tr>\n",
       "  <th>Method:</th>               <td>MLE</td>       <th>  Df Model:          </th>  <td>     9</td> \n",
       "</tr>\n",
       "<tr>\n",
       "  <th>Date:</th>          <td>Wed, 29 May 2019</td> <th>  Pseudo R-squ.:     </th>  <td>0.5075</td> \n",
       "</tr>\n",
       "<tr>\n",
       "  <th>Time:</th>              <td>09:13:29</td>     <th>  Log-Likelihood:    </th> <td> -22308.</td>\n",
       "</tr>\n",
       "<tr>\n",
       "  <th>converged:</th>           <td>True</td>       <th>  LL-Null:           </th> <td> -45294.</td>\n",
       "</tr>\n",
       "<tr>\n",
       "  <th> </th>                      <td> </td>        <th>  LLR p-value:       </th>  <td> 0.000</td> \n",
       "</tr>\n",
       "</table>\n",
       "<table class=\"simpletable\">\n",
       "<tr>\n",
       "   <td></td>      <th>coef</th>     <th>std err</th>      <th>z</th>      <th>P>|z|</th>  <th>[0.025</th>    <th>0.975]</th>  \n",
       "</tr>\n",
       "<tr>\n",
       "  <th>x1</th>  <td>    2.8097</td> <td>    0.028</td> <td>   98.851</td> <td> 0.000</td> <td>    2.754</td> <td>    2.865</td>\n",
       "</tr>\n",
       "<tr>\n",
       "  <th>x2</th>  <td>    0.1525</td> <td>    0.004</td> <td>   35.970</td> <td> 0.000</td> <td>    0.144</td> <td>    0.161</td>\n",
       "</tr>\n",
       "<tr>\n",
       "  <th>x3</th>  <td>    0.2617</td> <td>    0.015</td> <td>   17.514</td> <td> 0.000</td> <td>    0.232</td> <td>    0.291</td>\n",
       "</tr>\n",
       "<tr>\n",
       "  <th>x4</th>  <td>   -0.3610</td> <td>    0.022</td> <td>  -16.722</td> <td> 0.000</td> <td>   -0.403</td> <td>   -0.319</td>\n",
       "</tr>\n",
       "<tr>\n",
       "  <th>x5</th>  <td>    0.1010</td> <td>    0.017</td> <td>    6.045</td> <td> 0.000</td> <td>    0.068</td> <td>    0.134</td>\n",
       "</tr>\n",
       "<tr>\n",
       "  <th>x6</th>  <td>    0.3316</td> <td>    0.009</td> <td>   37.520</td> <td> 0.000</td> <td>    0.314</td> <td>    0.349</td>\n",
       "</tr>\n",
       "<tr>\n",
       "  <th>x7</th>  <td>    0.1788</td> <td>    0.014</td> <td>   12.874</td> <td> 0.000</td> <td>    0.152</td> <td>    0.206</td>\n",
       "</tr>\n",
       "<tr>\n",
       "  <th>x8</th>  <td>    0.0082</td> <td>    0.010</td> <td>    0.865</td> <td> 0.387</td> <td>   -0.010</td> <td>    0.027</td>\n",
       "</tr>\n",
       "<tr>\n",
       "  <th>x9</th>  <td>    0.1749</td> <td>    0.020</td> <td>    8.677</td> <td> 0.000</td> <td>    0.135</td> <td>    0.214</td>\n",
       "</tr>\n",
       "<tr>\n",
       "  <th>x10</th> <td>   -1.6405</td> <td>    0.017</td> <td>  -94.470</td> <td> 0.000</td> <td>   -1.675</td> <td>   -1.606</td>\n",
       "</tr>\n",
       "</table>"
      ],
      "text/plain": [
       "<class 'statsmodels.iolib.summary.Summary'>\n",
       "\"\"\"\n",
       "                           Logit Regression Results                           \n",
       "==============================================================================\n",
       "Dep. Variable:                      y   No. Observations:                65346\n",
       "Model:                          Logit   Df Residuals:                    65336\n",
       "Method:                           MLE   Df Model:                            9\n",
       "Date:                Wed, 29 May 2019   Pseudo R-squ.:                  0.5075\n",
       "Time:                        09:13:29   Log-Likelihood:                -22308.\n",
       "converged:                       True   LL-Null:                       -45294.\n",
       "                                        LLR p-value:                     0.000\n",
       "==============================================================================\n",
       "                 coef    std err          z      P>|z|      [0.025      0.975]\n",
       "------------------------------------------------------------------------------\n",
       "x1             2.8097      0.028     98.851      0.000       2.754       2.865\n",
       "x2             0.1525      0.004     35.970      0.000       0.144       0.161\n",
       "x3             0.2617      0.015     17.514      0.000       0.232       0.291\n",
       "x4            -0.3610      0.022    -16.722      0.000      -0.403      -0.319\n",
       "x5             0.1010      0.017      6.045      0.000       0.068       0.134\n",
       "x6             0.3316      0.009     37.520      0.000       0.314       0.349\n",
       "x7             0.1788      0.014     12.874      0.000       0.152       0.206\n",
       "x8             0.0082      0.010      0.865      0.387      -0.010       0.027\n",
       "x9             0.1749      0.020      8.677      0.000       0.135       0.214\n",
       "x10           -1.6405      0.017    -94.470      0.000      -1.675      -1.606\n",
       "==============================================================================\n",
       "\"\"\""
      ]
     },
     "execution_count": 29,
     "metadata": {},
     "output_type": "execute_result"
    }
   ],
   "source": [
    "result.summary()"
   ]
  },
  {
   "cell_type": "code",
   "execution_count": 45,
   "metadata": {},
   "outputs": [],
   "source": [
    "X_new = pd.DataFrame(X_res, columns=figure1_df['Features'])\n",
    "y_new = pd.DataFrame(y_res, columns=['Depression'])"
   ]
  },
  {
   "cell_type": "code",
   "execution_count": 46,
   "metadata": {},
   "outputs": [],
   "source": [
    "df = pd.concat([X_new, y_new], axis=1)\n"
   ]
  },
  {
   "cell_type": "code",
   "execution_count": 47,
   "metadata": {},
   "outputs": [],
   "source": [
    "import seaborn as sns\n",
    "sns.set(style=\"darkgrid\")"
   ]
  },
  {
   "cell_type": "code",
   "execution_count": 59,
   "metadata": {},
   "outputs": [
    {
     "data": {
      "image/png": "[encoded data removed]",
      "text/plain": [
       "<Figure size 1080x504 with 6 Axes>"
      ]
     },
     "metadata": {},
     "output_type": "display_data"
    }
   ],
   "source": [
    "f, axes = plt.subplots(2, 3, figsize=(15, 7), sharey=True, sharex=False)\n",
    "f.suptitle(\"Relationship between Risk Factors and Probability of Having Depression\", fontsize=14)\n",
    "sns.regplot(x='Anxiety', y=\"Depression\", data=df, logistic=True, ax=axes[0, 0])\n",
    "sns.regplot(x='Age', y=\"Depression\", data=df, logistic=True, ax=axes[0, 1])\n",
    "sns.regplot(x='Health Affected Ability', y=\"Depression\", data=df, logistic=True, ax=axes[0, 2])\n",
    "sns.regplot(x='Difficulty Making Friends', y=\"Depression\", data=df, logistic=True, ax=axes[1, 0])\n",
    "sns.regplot(x='General Health', y=\"Depression\", data=df, logistic=True, ax=axes[1, 1])\n",
    "sns.regplot(x='Adverse Childhood Experience', y=\"Depression\", data=df, logistic=True, ax=axes[1, 2])\n",
    "\n",
    "plt.sca(axes[0, 0])\n",
    "plt.xticks([0, 1], ['No', 'Yes'])\n",
    "plt.sca(axes[0, 2])\n",
    "plt.xticks([1, 2, 3, 4, 5], ['No condition', 'Never', 'Sometimes', 'Usually', 'Always'])\n",
    "plt.sca(axes[1, 0])\n",
    "plt.xticks([1, 2, 3], ['No', 'A little', 'A lot of'])\n",
    "plt.sca(axes[1, 1])\n",
    "plt.xticks([1, 2, 3, 4, 5], ['Excellent', 'Very Good', 'Good', 'Fair', 'Poor'])\n",
    "plt.sca(axes[1, 2])\n",
    "plt.xticks(range(0, 9))\n",
    "plt.xlim((-0.2, 8.2))\n",
    "plt.show()"
   ]
  },
  {
   "cell_type": "markdown",
   "metadata": {},
   "source": [
    "Critique\n",
    "\n",
    "The data used to create the plot is collected through the National Survey of Children’s Health (NSCH). The plot that I created visualizes 6 features in the dataset that are most predictive of early-onset depression. \n",
    "\n",
    "*Is it truthful?*\n",
    "\n",
    "Truthfulness is on a continuum and partly depends on the research design and the data. The plot here intended to demonstrate the relationship between a series of risk factors and the possibility of having a diagnosis of depression. There are many ways to design research and collect data about children. Depending on the questionnaire and population, the visualization might look different. NSCH survey is just one of the datasets that are made available to the public. However, this data is the best that I can find that is both accessible and relative to my research question. The NSCH collects information about the physical and emotional health of children between 0 to 17 years old. Questions in the survey include access to - and quality of - health care, family structures, and environment, parental health, neighborhood characteristics, as well as school and after-school experiences (US Census Bureau, 2019). \n",
    "\n",
    "An absolute truthful representation of the dataset might be to create a plot using every single information in the NSCH survey without changing anything. However, NSCH dataset has over 300 variables, three different forms for different age groups, many missing data, and an unbalanced outcome variable. Such a plot would be very hard to interpret and my goal was to just emphasize those important ones.\n",
    "\n",
    "As a result, I used a machine learning model - random forest - to select the top 10 most important features and to plot 6 of those features in relation to depression diagnose. In sum, I think that this graph tried its best to truthfully represent the dataset that is given.\n",
    "\n",
    "*Is it functional?*\n",
    "\n",
    "Again, the purpose of the graph is to visualize the relationship between selected risk factors and early-onset depression. \n",
    "\n",
    "I chose logistic regression to visualize this relationship because the outcome variable only contains two categories: has a depression diagnose and do not have a depression diagnose. A log-odd would be hard to interpret for the audience, so I chose to plot the y-axis as the probability of having a depression diagnose. \n",
    "\n",
    "In addition, to make the graph more interpretable, I added labels for all x-axes, y-axes, as well as the labels for categorical variables. The audience should be able to understand the graph without any further explanations.\n",
    "\n",
    "*Is it beautiful?*\n",
    "\n",
    "I think that people may have different aesthetic standards. My goal was to plot a graph that represents the most important information from the dataset. I wanted the graph to look simple with no redundant information but not too boring at the same time. Since there are a total of ten features that need to be displayed on the graph, I arranged them into a 2 x 3 table. In this way, people would be able to see the graph immediately without having to scroll down the pages. Also, I chose to use the “seaborn” package from python, which contains a variety of color palettes and built-in themes. Therefore, each subplot in the graph has a different color and it makes the overall graph more aesthetically pleasing.\n",
    "\n",
    "*Is it insightful?*\n",
    "\n",
    "The potential audience for this graph are researchers in early-onset depression. Many research in developmental psychology shows that almost any type of negative early childhood experience may potentially serve as a risk factor for maladaptive development. Too much information sometimes makes people lose focus. This graph, instead, is developed from a machine learning model that selected ten important features from a relatively large dataset. I hope that clinicians who look at this graph may gain some insights about what is important to consider when they evaluate children whether they are at risk for early-onset depression.\n",
    "\n",
    "*Is it enlightening?*\n",
    "\n",
    "I chose this topic because I believe that intervention is better than cure. I hope to provide a tool that psychologists can use to identify children at risk for depression very quickly. The graph shows the risk factors and their relationship to the possibility of depression diagnose. I believe that that information is not only enlightening for researchers but also useful for the general public in the sense that people would pay more attention to factors that would potentially lead to depression. For example, schools may take actions to remedy issues regarding bullying. Parents may pay more attention to children’s mental health and etc. Overall, I believe that this is an enlightening graph. \n"
   ]
  },
  {
   "cell_type": "code",
   "execution_count": null,
   "metadata": {},
   "outputs": [],
   "source": []
  }
 ],
 "metadata": {
  "kernelspec": {
   "display_name": "Python 3",
   "language": "python",
   "name": "python3"
  },
  "language_info": {
   "codemirror_mode": {
    "name": "ipython",
    "version": 3
   },
   "file_extension": ".py",
   "mimetype": "text/x-python",
   "name": "python",
   "nbconvert_exporter": "python",
   "pygments_lexer": "ipython3",
   "version": "3.6.8"
  }
 },
 "nbformat": 4,
 "nbformat_minor": 2
}
